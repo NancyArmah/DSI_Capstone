{
 "cells": [
  {
   "cell_type": "markdown",
   "id": "43add267",
   "metadata": {
    "id": "43add267",
    "papermill": {
     "duration": 0.006666,
     "end_time": "2022-07-17T05:18:42.978238",
     "exception": false,
     "start_time": "2022-07-17T05:18:42.971572",
     "status": "completed"
    },
    "tags": []
   },
   "source": [
    "# Credit Card Fraud Detection\n"
   ]
  },
  {
   "cell_type": "markdown",
   "id": "5213f5ed",
   "metadata": {},
   "source": [
    "## Introduction\n",
    "\n",
    "From the moment the e-commerce payment systems came to existence, there have always been people who will find new ways to access someone’s finances illegally. This has become a major problem in the modern era, as all transactions can easily be completed online by only entering your credit card information.\n",
    "\n",
    "Payment card fraud is a major challenge for businesses, payment card issuers and tranactional service companies. The losses from payment card fraud reached 28.6 billion worldwide in 2019 according to [Nilson Report Data](https://nilsonreport.com/content_promo.php?id_promo=16). United States alone is responsible for more than a third of the total global loss, making it the most card fraud prone country in the world. \n",
    "\n",
    "The corona virus pandemic has also fueled an explosive growth in card fraud activity because many consumers and retailers decided it was not worth the risk and pivoted to using their bank cards and phones to make everyday purchases. In the UK, card payments were 75.3% higher in early April 2020 compared with a year earlier, while contactless payment limits also rose to $100, making the switch to contactless even more appealing.\n",
    "\n",
    "Unfortunately, this rapid change was overshadowed by increased levels of fraud. It impacts consumers, merchants and issuers alike. Its economic cost goes far beyond the cost of illegally purchased merchandise because businesses often spend millions to protect themselves from fraud. Big businesses can absorb some amount of losses but if a small one-shop business or a restaurant all of a sudden has a $10,000 loss, that could be the difference between making payroll and not making payroll for that company.\n",
    "\n",
    "It should also be noted that fraud detection is a cat and mouse game, where fraudulent patterns change over time. As technology evolves, both in terms of fraud prevention and ease of use of payment systems, so do fraudster techniques. They adapt by moving from the old (and by now fixed) targets to the vulnerability of the new technologies.\n",
    "\n",
    "Credit card fraud detection (CCFD) is like looking for needles in a haystack. It requires finding, out of millions of daily transactions, which ones are fraudulent. Due to the ever-increasing amount of data, it is now almost impossible for a human specialist to detect meaningful patterns from transaction data. For this reason, the use of machine learning techniques is now widespread in the field of fraud detection, where information extraction from large datasets is required.\n",
    "\n",
    "Credit Card Fraud Detection with Machine Learning is a process of data investigation and the development of a model that will provide the best results in revealing and preventing fraudulent transactions. This is achieved through bringing together all meaningful features of card users’ transactions. The information is then run through a subtly trained model that finds patterns and rules so that it can classify whether a transaction is fraudulent or is legitimate. \n"
   ]
  },
  {
   "cell_type": "markdown",
   "id": "b77161cf",
   "metadata": {},
   "source": [
    "## Objective\n",
    "\n",
    "\n",
    "*   Train a Machine Learning Model with historic data to learn patterns behind fraudulent behavior to enable the model filter out fraudulent transactions and stop them from occurring in real-time.\n"
   ]
  },
  {
   "cell_type": "markdown",
   "id": "268d0e35",
   "metadata": {},
   "source": [
    "## Data\n",
    "\n",
    "Simulated credit card transaction dataset from [Kaggle](https://www.kaggle.com/datasets/kartik2112/fraud-detection) containing legitimate and fraud transactions from the duration 1st Jan 2019 - 31st Dec 2020. It covers credit cards of 1000 customers doing transactions with a pool of 800 merchants.\n",
    "\n",
    "This was generated using [Sparkov Data Generation | Github](https://github.com/namebrandon/Sparkov_Data_Generation) tool created by Brandon Harris. This simulation was run for the duration - 1 Jan 2019 to 31 Dec 2020. The files were then combined and converted into a standard format."
   ]
  },
  {
   "cell_type": "markdown",
   "id": "5493d3ec",
   "metadata": {},
   "source": [
    "## Import Packages"
   ]
  },
  {
   "cell_type": "code",
   "execution_count": null,
   "id": "8b75b98a",
   "metadata": {
    "execution": {
     "iopub.execute_input": "2022-07-17T05:18:42.993604Z",
     "iopub.status.busy": "2022-07-17T05:18:42.993264Z",
     "iopub.status.idle": "2022-07-17T05:18:56.381020Z",
     "shell.execute_reply": "2022-07-17T05:18:56.379833Z"
    },
    "id": "73a5d727",
    "papermill": {
     "duration": 13.398243,
     "end_time": "2022-07-17T05:18:56.383361",
     "exception": false,
     "start_time": "2022-07-17T05:18:42.985118",
     "status": "completed"
    },
    "tags": []
   },
   "outputs": [],
   "source": [
    "import pandas as pd\n",
    "import numpy as np\n",
    "import matplotlib.pyplot as plt\n",
    "import seaborn as sns\n",
    "\n",
    "import scipy\n",
    "from scipy.stats import pearsonr\n",
    "\n",
    "from imblearn.over_sampling import SMOTE\n",
    "from sklearn.model_selection import train_test_split\n",
    "from sklearn.preprocessing import StandardScaler\n",
    "\n",
    "from sklearn.linear_model import LogisticRegression\n",
    "from sklearn.model_selection import cross_val_score\n",
    "from sklearn.ensemble import RandomForestClassifier\n",
    "from sklearn.naive_bayes import GaussianNB\n",
    "\n",
    "from sklearn.feature_selection import SelectKBest, chi2\n",
    "from sklearn.metrics import (\n",
    "    roc_auc_score,\n",
    "    confusion_matrix,\n",
    "    accuracy_score,\n",
    "    f1_score,\n",
    "    classification_report,\n",
    ")\n",
    "import warnings\n",
    "\n",
    "warnings.filterwarnings(\"ignore\")"
   ]
  },
  {
   "cell_type": "markdown",
   "id": "80a27b3e",
   "metadata": {},
   "source": [
    "## Import and Read Data"
   ]
  },
  {
   "cell_type": "code",
   "execution_count": 2,
   "id": "jUioPrkbsa1m",
   "metadata": {
    "colab": {
     "base_uri": "https://localhost:8080/"
    },
    "id": "jUioPrkbsa1m",
    "outputId": "1b3f5075-102f-4a6f-9bde-45dbd98ed4a1"
   },
   "outputs": [
    {
     "name": "stdout",
     "output_type": "stream",
     "text": [
      "Drive already mounted at /content/drive; to attempt to forcibly remount, call drive.mount(\"/content/drive\", force_remount=True).\n"
     ]
    }
   ],
   "source": [
    "from google.colab import drive\n",
    "drive.mount('/content/drive')"
   ]
  },
  {
   "cell_type": "code",
   "execution_count": 2,
   "id": "Up_pct9RqvK1",
   "metadata": {
    "id": "Up_pct9RqvK1"
   },
   "outputs": [],
   "source": [
    "train_df=pd.read_csv('/content/drive/MyDrive/archive (2)/fraudTest.csv')\n",
    "test_df=pd.read_csv('/content/drive/MyDrive/archive (2)/fraudTrain.csv')"
   ]
  },
  {
   "cell_type": "code",
   "execution_count": 3,
   "id": "_GCFbwx7rR9C",
   "metadata": {
    "id": "_GCFbwx7rR9C"
   },
   "outputs": [],
   "source": [
    "#concat data\n",
    "\n",
    "df=pd.concat([train_df, test_df])"
   ]
  },
  {
   "cell_type": "markdown",
   "id": "224e0c80",
   "metadata": {},
   "source": [
    "## Exploratory Data Analysis (EDA)"
   ]
  },
  {
   "cell_type": "code",
   "execution_count": 4,
   "id": "cAWexwQcqzeX",
   "metadata": {
    "id": "cAWexwQcqzeX"
   },
   "outputs": [],
   "source": [
    "# drop the unnamed column\n",
    "\n",
    "df.drop('Unnamed: 0', axis=1, inplace=True)"
   ]
  },
  {
   "cell_type": "code",
   "execution_count": 21,
   "id": "jhqkEbtAq_wg",
   "metadata": {
    "colab": {
     "base_uri": "https://localhost:8080/"
    },
    "id": "jhqkEbtAq_wg",
    "outputId": "c7896d3f-c561-4a0a-cfa5-2a6194a253d8"
   },
   "outputs": [
    {
     "data": {
      "text/plain": [
       "trans_date_trans_time    0\n",
       "cc_num                   0\n",
       "merchant                 0\n",
       "category                 0\n",
       "amt                      0\n",
       "first                    0\n",
       "last                     0\n",
       "gender                   0\n",
       "street                   0\n",
       "city                     0\n",
       "state                    0\n",
       "zip                      0\n",
       "lat                      0\n",
       "long                     0\n",
       "city_pop                 0\n",
       "job                      0\n",
       "dob                      0\n",
       "trans_num                0\n",
       "unix_time                0\n",
       "merch_lat                0\n",
       "merch_long               0\n",
       "is_fraud                 0\n",
       "dtype: int64"
      ]
     },
     "execution_count": 21,
     "metadata": {},
     "output_type": "execute_result"
    }
   ],
   "source": [
    "#check for nulls\n",
    "\n",
    "df.isnull().sum()"
   ]
  },
  {
   "cell_type": "code",
   "execution_count": 22,
   "id": "LOwVxeETrDLE",
   "metadata": {
    "colab": {
     "base_uri": "https://localhost:8080/"
    },
    "id": "LOwVxeETrDLE",
    "outputId": "ec502847-ed2e-4ce1-bb9d-36e9e1250328"
   },
   "outputs": [
    {
     "name": "stdout",
     "output_type": "stream",
     "text": [
      "<class 'pandas.core.frame.DataFrame'>\n",
      "Int64Index: 1852394 entries, 0 to 1296674\n",
      "Data columns (total 22 columns):\n",
      " #   Column                 Dtype  \n",
      "---  ------                 -----  \n",
      " 0   trans_date_trans_time  object \n",
      " 1   cc_num                 int64  \n",
      " 2   merchant               object \n",
      " 3   category               object \n",
      " 4   amt                    float64\n",
      " 5   first                  object \n",
      " 6   last                   object \n",
      " 7   gender                 object \n",
      " 8   street                 object \n",
      " 9   city                   object \n",
      " 10  state                  object \n",
      " 11  zip                    int64  \n",
      " 12  lat                    float64\n",
      " 13  long                   float64\n",
      " 14  city_pop               int64  \n",
      " 15  job                    object \n",
      " 16  dob                    object \n",
      " 17  trans_num              object \n",
      " 18  unix_time              int64  \n",
      " 19  merch_lat              float64\n",
      " 20  merch_long             float64\n",
      " 21  is_fraud               int64  \n",
      "dtypes: float64(5), int64(5), object(12)\n",
      "memory usage: 325.1+ MB\n"
     ]
    }
   ],
   "source": [
    "#check information about the DataFrame\n",
    "\n",
    "df.info()"
   ]
  },
  {
   "cell_type": "code",
   "execution_count": 23,
   "id": "VYeAAt1frC_C",
   "metadata": {
    "colab": {
     "base_uri": "https://localhost:8080/"
    },
    "id": "VYeAAt1frC_C",
    "outputId": "131efe68-0836-4d34-b6f2-962a31d0339a"
   },
   "outputs": [
    {
     "data": {
      "text/plain": [
       "0"
      ]
     },
     "execution_count": 23,
     "metadata": {},
     "output_type": "execute_result"
    }
   ],
   "source": [
    "#check for duplicates\n",
    "\n",
    "df.duplicated().sum()"
   ]
  },
  {
   "cell_type": "code",
   "execution_count": 24,
   "id": "v-Q9_Ht_sBCw",
   "metadata": {
    "colab": {
     "base_uri": "https://localhost:8080/"
    },
    "id": "v-Q9_Ht_sBCw",
    "outputId": "fcfc62c0-6bc9-448a-a1ce-6892a9c325cb"
   },
   "outputs": [
    {
     "data": {
      "text/plain": [
       "(1852394, 22)"
      ]
     },
     "execution_count": 24,
     "metadata": {},
     "output_type": "execute_result"
    }
   ],
   "source": [
    "#check shape of dataframe\n",
    "\n",
    "df.shape"
   ]
  },
  {
   "cell_type": "code",
   "execution_count": 5,
   "id": "_8wsoM2G0hLN",
   "metadata": {
    "colab": {
     "base_uri": "https://localhost:8080/"
    },
    "id": "_8wsoM2G0hLN",
    "outputId": "9379cbe3-639c-4784-908e-2e20c9527e42"
   },
   "outputs": [
    {
     "data": {
      "text/plain": [
       "555719"
      ]
     },
     "execution_count": 5,
     "metadata": {},
     "output_type": "execute_result"
    }
   ],
   "source": [
    "#check duplicated index\n",
    "\n",
    "df.index.duplicated().sum()"
   ]
  },
  {
   "cell_type": "code",
   "execution_count": 6,
   "id": "h_uA1lh103WE",
   "metadata": {
    "id": "h_uA1lh103WE"
   },
   "outputs": [],
   "source": [
    "#drop duplicated indexes\n",
    "\n",
    "df=df.loc[~df.index.duplicated(), :]"
   ]
  },
  {
   "cell_type": "code",
   "execution_count": 7,
   "id": "gBjbWMvh095M",
   "metadata": {
    "colab": {
     "base_uri": "https://localhost:8080/"
    },
    "id": "gBjbWMvh095M",
    "outputId": "3c99b5e8-d8b9-4e0b-8a10-1d395646688f"
   },
   "outputs": [
    {
     "data": {
      "text/plain": [
       "0"
      ]
     },
     "execution_count": 7,
     "metadata": {},
     "output_type": "execute_result"
    }
   ],
   "source": [
    "df.index.duplicated().sum()"
   ]
  },
  {
   "cell_type": "code",
   "execution_count": 25,
   "id": "IknByjhPytlI",
   "metadata": {
    "colab": {
     "base_uri": "https://localhost:8080/",
     "height": 300
    },
    "id": "IknByjhPytlI",
    "outputId": "68834c34-3113-483e-ff6f-41a535ea5c11"
   },
   "outputs": [
    {
     "data": {
      "text/html": [
       "\n",
       "  <div id=\"df-448c9d47-ce96-4367-ad04-2c3cb1b9a4a7\">\n",
       "    <div class=\"colab-df-container\">\n",
       "      <div>\n",
       "<style scoped>\n",
       "    .dataframe tbody tr th:only-of-type {\n",
       "        vertical-align: middle;\n",
       "    }\n",
       "\n",
       "    .dataframe tbody tr th {\n",
       "        vertical-align: top;\n",
       "    }\n",
       "\n",
       "    .dataframe thead th {\n",
       "        text-align: right;\n",
       "    }\n",
       "</style>\n",
       "<table border=\"1\" class=\"dataframe\">\n",
       "  <thead>\n",
       "    <tr style=\"text-align: right;\">\n",
       "      <th></th>\n",
       "      <th>cc_num</th>\n",
       "      <th>amt</th>\n",
       "      <th>zip</th>\n",
       "      <th>lat</th>\n",
       "      <th>long</th>\n",
       "      <th>city_pop</th>\n",
       "      <th>unix_time</th>\n",
       "      <th>merch_lat</th>\n",
       "      <th>merch_long</th>\n",
       "      <th>is_fraud</th>\n",
       "    </tr>\n",
       "  </thead>\n",
       "  <tbody>\n",
       "    <tr>\n",
       "      <th>count</th>\n",
       "      <td>1.852394e+06</td>\n",
       "      <td>1.852394e+06</td>\n",
       "      <td>1.852394e+06</td>\n",
       "      <td>1.852394e+06</td>\n",
       "      <td>1.852394e+06</td>\n",
       "      <td>1.852394e+06</td>\n",
       "      <td>1.852394e+06</td>\n",
       "      <td>1.852394e+06</td>\n",
       "      <td>1.852394e+06</td>\n",
       "      <td>1.852394e+06</td>\n",
       "    </tr>\n",
       "    <tr>\n",
       "      <th>mean</th>\n",
       "      <td>4.173860e+17</td>\n",
       "      <td>7.006357e+01</td>\n",
       "      <td>4.881326e+04</td>\n",
       "      <td>3.853931e+01</td>\n",
       "      <td>-9.022783e+01</td>\n",
       "      <td>8.864367e+04</td>\n",
       "      <td>1.358674e+09</td>\n",
       "      <td>3.853898e+01</td>\n",
       "      <td>-9.022794e+01</td>\n",
       "      <td>5.210015e-03</td>\n",
       "    </tr>\n",
       "    <tr>\n",
       "      <th>std</th>\n",
       "      <td>1.309115e+18</td>\n",
       "      <td>1.592540e+02</td>\n",
       "      <td>2.688185e+04</td>\n",
       "      <td>5.071470e+00</td>\n",
       "      <td>1.374789e+01</td>\n",
       "      <td>3.014876e+05</td>\n",
       "      <td>1.819508e+07</td>\n",
       "      <td>5.105604e+00</td>\n",
       "      <td>1.375969e+01</td>\n",
       "      <td>7.199217e-02</td>\n",
       "    </tr>\n",
       "    <tr>\n",
       "      <th>min</th>\n",
       "      <td>6.041621e+10</td>\n",
       "      <td>1.000000e+00</td>\n",
       "      <td>1.257000e+03</td>\n",
       "      <td>2.002710e+01</td>\n",
       "      <td>-1.656723e+02</td>\n",
       "      <td>2.300000e+01</td>\n",
       "      <td>1.325376e+09</td>\n",
       "      <td>1.902742e+01</td>\n",
       "      <td>-1.666716e+02</td>\n",
       "      <td>0.000000e+00</td>\n",
       "    </tr>\n",
       "    <tr>\n",
       "      <th>25%</th>\n",
       "      <td>1.800429e+14</td>\n",
       "      <td>9.640000e+00</td>\n",
       "      <td>2.623700e+04</td>\n",
       "      <td>3.466890e+01</td>\n",
       "      <td>-9.679800e+01</td>\n",
       "      <td>7.410000e+02</td>\n",
       "      <td>1.343017e+09</td>\n",
       "      <td>3.474012e+01</td>\n",
       "      <td>-9.689944e+01</td>\n",
       "      <td>0.000000e+00</td>\n",
       "    </tr>\n",
       "    <tr>\n",
       "      <th>50%</th>\n",
       "      <td>3.521417e+15</td>\n",
       "      <td>4.745000e+01</td>\n",
       "      <td>4.817400e+04</td>\n",
       "      <td>3.935430e+01</td>\n",
       "      <td>-8.747690e+01</td>\n",
       "      <td>2.443000e+03</td>\n",
       "      <td>1.357089e+09</td>\n",
       "      <td>3.936890e+01</td>\n",
       "      <td>-8.744069e+01</td>\n",
       "      <td>0.000000e+00</td>\n",
       "    </tr>\n",
       "    <tr>\n",
       "      <th>75%</th>\n",
       "      <td>4.642255e+15</td>\n",
       "      <td>8.310000e+01</td>\n",
       "      <td>7.204200e+04</td>\n",
       "      <td>4.194040e+01</td>\n",
       "      <td>-8.015800e+01</td>\n",
       "      <td>2.032800e+04</td>\n",
       "      <td>1.374581e+09</td>\n",
       "      <td>4.195626e+01</td>\n",
       "      <td>-8.024511e+01</td>\n",
       "      <td>0.000000e+00</td>\n",
       "    </tr>\n",
       "    <tr>\n",
       "      <th>max</th>\n",
       "      <td>4.992346e+18</td>\n",
       "      <td>2.894890e+04</td>\n",
       "      <td>9.992100e+04</td>\n",
       "      <td>6.669330e+01</td>\n",
       "      <td>-6.795030e+01</td>\n",
       "      <td>2.906700e+06</td>\n",
       "      <td>1.388534e+09</td>\n",
       "      <td>6.751027e+01</td>\n",
       "      <td>-6.695090e+01</td>\n",
       "      <td>1.000000e+00</td>\n",
       "    </tr>\n",
       "  </tbody>\n",
       "</table>\n",
       "</div>\n",
       "      <button class=\"colab-df-convert\" onclick=\"convertToInteractive('df-448c9d47-ce96-4367-ad04-2c3cb1b9a4a7')\"\n",
       "              title=\"Convert this dataframe to an interactive table.\"\n",
       "              style=\"display:none;\">\n",
       "        \n",
       "  <svg xmlns=\"http://www.w3.org/2000/svg\" height=\"24px\"viewBox=\"0 0 24 24\"\n",
       "       width=\"24px\">\n",
       "    <path d=\"M0 0h24v24H0V0z\" fill=\"none\"/>\n",
       "    <path d=\"M18.56 5.44l.94 2.06.94-2.06 2.06-.94-2.06-.94-.94-2.06-.94 2.06-2.06.94zm-11 1L8.5 8.5l.94-2.06 2.06-.94-2.06-.94L8.5 2.5l-.94 2.06-2.06.94zm10 10l.94 2.06.94-2.06 2.06-.94-2.06-.94-.94-2.06-.94 2.06-2.06.94z\"/><path d=\"M17.41 7.96l-1.37-1.37c-.4-.4-.92-.59-1.43-.59-.52 0-1.04.2-1.43.59L10.3 9.45l-7.72 7.72c-.78.78-.78 2.05 0 2.83L4 21.41c.39.39.9.59 1.41.59.51 0 1.02-.2 1.41-.59l7.78-7.78 2.81-2.81c.8-.78.8-2.07 0-2.86zM5.41 20L4 18.59l7.72-7.72 1.47 1.35L5.41 20z\"/>\n",
       "  </svg>\n",
       "      </button>\n",
       "      \n",
       "  <style>\n",
       "    .colab-df-container {\n",
       "      display:flex;\n",
       "      flex-wrap:wrap;\n",
       "      gap: 12px;\n",
       "    }\n",
       "\n",
       "    .colab-df-convert {\n",
       "      background-color: #E8F0FE;\n",
       "      border: none;\n",
       "      border-radius: 50%;\n",
       "      cursor: pointer;\n",
       "      display: none;\n",
       "      fill: #1967D2;\n",
       "      height: 32px;\n",
       "      padding: 0 0 0 0;\n",
       "      width: 32px;\n",
       "    }\n",
       "\n",
       "    .colab-df-convert:hover {\n",
       "      background-color: #E2EBFA;\n",
       "      box-shadow: 0px 1px 2px rgba(60, 64, 67, 0.3), 0px 1px 3px 1px rgba(60, 64, 67, 0.15);\n",
       "      fill: #174EA6;\n",
       "    }\n",
       "\n",
       "    [theme=dark] .colab-df-convert {\n",
       "      background-color: #3B4455;\n",
       "      fill: #D2E3FC;\n",
       "    }\n",
       "\n",
       "    [theme=dark] .colab-df-convert:hover {\n",
       "      background-color: #434B5C;\n",
       "      box-shadow: 0px 1px 3px 1px rgba(0, 0, 0, 0.15);\n",
       "      filter: drop-shadow(0px 1px 2px rgba(0, 0, 0, 0.3));\n",
       "      fill: #FFFFFF;\n",
       "    }\n",
       "  </style>\n",
       "\n",
       "      <script>\n",
       "        const buttonEl =\n",
       "          document.querySelector('#df-448c9d47-ce96-4367-ad04-2c3cb1b9a4a7 button.colab-df-convert');\n",
       "        buttonEl.style.display =\n",
       "          google.colab.kernel.accessAllowed ? 'block' : 'none';\n",
       "\n",
       "        async function convertToInteractive(key) {\n",
       "          const element = document.querySelector('#df-448c9d47-ce96-4367-ad04-2c3cb1b9a4a7');\n",
       "          const dataTable =\n",
       "            await google.colab.kernel.invokeFunction('convertToInteractive',\n",
       "                                                     [key], {});\n",
       "          if (!dataTable) return;\n",
       "\n",
       "          const docLinkHtml = 'Like what you see? Visit the ' +\n",
       "            '<a target=\"_blank\" href=https://colab.research.google.com/notebooks/data_table.ipynb>data table notebook</a>'\n",
       "            + ' to learn more about interactive tables.';\n",
       "          element.innerHTML = '';\n",
       "          dataTable['output_type'] = 'display_data';\n",
       "          await google.colab.output.renderOutput(dataTable, element);\n",
       "          const docLink = document.createElement('div');\n",
       "          docLink.innerHTML = docLinkHtml;\n",
       "          element.appendChild(docLink);\n",
       "        }\n",
       "      </script>\n",
       "    </div>\n",
       "  </div>\n",
       "  "
      ],
      "text/plain": [
       "             cc_num           amt           zip           lat          long  \\\n",
       "count  1.852394e+06  1.852394e+06  1.852394e+06  1.852394e+06  1.852394e+06   \n",
       "mean   4.173860e+17  7.006357e+01  4.881326e+04  3.853931e+01 -9.022783e+01   \n",
       "std    1.309115e+18  1.592540e+02  2.688185e+04  5.071470e+00  1.374789e+01   \n",
       "min    6.041621e+10  1.000000e+00  1.257000e+03  2.002710e+01 -1.656723e+02   \n",
       "25%    1.800429e+14  9.640000e+00  2.623700e+04  3.466890e+01 -9.679800e+01   \n",
       "50%    3.521417e+15  4.745000e+01  4.817400e+04  3.935430e+01 -8.747690e+01   \n",
       "75%    4.642255e+15  8.310000e+01  7.204200e+04  4.194040e+01 -8.015800e+01   \n",
       "max    4.992346e+18  2.894890e+04  9.992100e+04  6.669330e+01 -6.795030e+01   \n",
       "\n",
       "           city_pop     unix_time     merch_lat    merch_long      is_fraud  \n",
       "count  1.852394e+06  1.852394e+06  1.852394e+06  1.852394e+06  1.852394e+06  \n",
       "mean   8.864367e+04  1.358674e+09  3.853898e+01 -9.022794e+01  5.210015e-03  \n",
       "std    3.014876e+05  1.819508e+07  5.105604e+00  1.375969e+01  7.199217e-02  \n",
       "min    2.300000e+01  1.325376e+09  1.902742e+01 -1.666716e+02  0.000000e+00  \n",
       "25%    7.410000e+02  1.343017e+09  3.474012e+01 -9.689944e+01  0.000000e+00  \n",
       "50%    2.443000e+03  1.357089e+09  3.936890e+01 -8.744069e+01  0.000000e+00  \n",
       "75%    2.032800e+04  1.374581e+09  4.195626e+01 -8.024511e+01  0.000000e+00  \n",
       "max    2.906700e+06  1.388534e+09  6.751027e+01 -6.695090e+01  1.000000e+00  "
      ]
     },
     "execution_count": 25,
     "metadata": {},
     "output_type": "execute_result"
    }
   ],
   "source": [
    "#check summary statistics for dataframe\n",
    "\n",
    "df.describe()"
   ]
  },
  {
   "cell_type": "code",
   "execution_count": 26,
   "id": "0eBr2M6vM5b3",
   "metadata": {
    "colab": {
     "base_uri": "https://localhost:8080/",
     "height": 488
    },
    "id": "0eBr2M6vM5b3",
    "outputId": "ee49ee1a-ca0a-4ca8-92da-2e4df1e9f38f"
   },
   "outputs": [
    {
     "data": {
      "text/html": [
       "\n",
       "  <div id=\"df-43825607-2483-41c0-892b-30bc2bc7c709\">\n",
       "    <div class=\"colab-df-container\">\n",
       "      <div>\n",
       "<style scoped>\n",
       "    .dataframe tbody tr th:only-of-type {\n",
       "        vertical-align: middle;\n",
       "    }\n",
       "\n",
       "    .dataframe tbody tr th {\n",
       "        vertical-align: top;\n",
       "    }\n",
       "\n",
       "    .dataframe thead th {\n",
       "        text-align: right;\n",
       "    }\n",
       "</style>\n",
       "<table border=\"1\" class=\"dataframe\">\n",
       "  <thead>\n",
       "    <tr style=\"text-align: right;\">\n",
       "      <th></th>\n",
       "      <th>cc_num</th>\n",
       "      <th>amt</th>\n",
       "      <th>zip</th>\n",
       "      <th>lat</th>\n",
       "      <th>long</th>\n",
       "      <th>city_pop</th>\n",
       "      <th>unix_time</th>\n",
       "      <th>merch_lat</th>\n",
       "      <th>merch_long</th>\n",
       "      <th>is_fraud</th>\n",
       "      <th>age</th>\n",
       "      <th>hour</th>\n",
       "      <th>day</th>\n",
       "      <th>month</th>\n",
       "    </tr>\n",
       "  </thead>\n",
       "  <tbody>\n",
       "    <tr>\n",
       "      <th>cc_num</th>\n",
       "      <td>1.000000</td>\n",
       "      <td>0.002406</td>\n",
       "      <td>0.041563</td>\n",
       "      <td>-0.059383</td>\n",
       "      <td>-0.048686</td>\n",
       "      <td>-0.009103</td>\n",
       "      <td>0.000200</td>\n",
       "      <td>-0.059014</td>\n",
       "      <td>-0.048698</td>\n",
       "      <td>-0.000189</td>\n",
       "      <td>-0.000058</td>\n",
       "      <td>-0.000984</td>\n",
       "      <td>0.000132</td>\n",
       "      <td>-0.000501</td>\n",
       "    </tr>\n",
       "    <tr>\n",
       "      <th>amt</th>\n",
       "      <td>0.002406</td>\n",
       "      <td>1.000000</td>\n",
       "      <td>0.003019</td>\n",
       "      <td>-0.001305</td>\n",
       "      <td>-0.001797</td>\n",
       "      <td>0.004777</td>\n",
       "      <td>-0.002360</td>\n",
       "      <td>-0.001133</td>\n",
       "      <td>-0.001766</td>\n",
       "      <td>0.205802</td>\n",
       "      <td>-0.010280</td>\n",
       "      <td>-0.025355</td>\n",
       "      <td>0.001652</td>\n",
       "      <td>-0.001717</td>\n",
       "    </tr>\n",
       "    <tr>\n",
       "      <th>zip</th>\n",
       "      <td>0.041563</td>\n",
       "      <td>0.003019</td>\n",
       "      <td>1.000000</td>\n",
       "      <td>-0.114866</td>\n",
       "      <td>-0.909715</td>\n",
       "      <td>0.077161</td>\n",
       "      <td>0.000452</td>\n",
       "      <td>-0.114322</td>\n",
       "      <td>-0.908900</td>\n",
       "      <td>-0.000794</td>\n",
       "      <td>0.009515</td>\n",
       "      <td>0.006426</td>\n",
       "      <td>0.000081</td>\n",
       "      <td>0.000905</td>\n",
       "    </tr>\n",
       "    <tr>\n",
       "      <th>lat</th>\n",
       "      <td>-0.059383</td>\n",
       "      <td>-0.001305</td>\n",
       "      <td>-0.114866</td>\n",
       "      <td>1.000000</td>\n",
       "      <td>-0.013675</td>\n",
       "      <td>-0.154196</td>\n",
       "      <td>0.000684</td>\n",
       "      <td>0.993578</td>\n",
       "      <td>-0.013642</td>\n",
       "      <td>0.001603</td>\n",
       "      <td>0.046844</td>\n",
       "      <td>-0.010570</td>\n",
       "      <td>0.001330</td>\n",
       "      <td>-0.000849</td>\n",
       "    </tr>\n",
       "    <tr>\n",
       "      <th>long</th>\n",
       "      <td>-0.048686</td>\n",
       "      <td>-0.001797</td>\n",
       "      <td>-0.909715</td>\n",
       "      <td>-0.013675</td>\n",
       "      <td>1.000000</td>\n",
       "      <td>-0.052315</td>\n",
       "      <td>0.000063</td>\n",
       "      <td>-0.013432</td>\n",
       "      <td>0.999118</td>\n",
       "      <td>-0.000153</td>\n",
       "      <td>-0.028683</td>\n",
       "      <td>-0.002475</td>\n",
       "      <td>0.000246</td>\n",
       "      <td>-0.001057</td>\n",
       "    </tr>\n",
       "    <tr>\n",
       "      <th>city_pop</th>\n",
       "      <td>-0.009103</td>\n",
       "      <td>0.004777</td>\n",
       "      <td>0.077161</td>\n",
       "      <td>-0.154196</td>\n",
       "      <td>-0.052315</td>\n",
       "      <td>1.000000</td>\n",
       "      <td>-0.001212</td>\n",
       "      <td>-0.153270</td>\n",
       "      <td>-0.052269</td>\n",
       "      <td>0.000572</td>\n",
       "      <td>-0.090671</td>\n",
       "      <td>0.019982</td>\n",
       "      <td>0.000098</td>\n",
       "      <td>0.000582</td>\n",
       "    </tr>\n",
       "    <tr>\n",
       "      <th>unix_time</th>\n",
       "      <td>0.000200</td>\n",
       "      <td>-0.002360</td>\n",
       "      <td>0.000452</td>\n",
       "      <td>0.000684</td>\n",
       "      <td>0.000063</td>\n",
       "      <td>-0.001212</td>\n",
       "      <td>1.000000</td>\n",
       "      <td>0.000581</td>\n",
       "      <td>0.000053</td>\n",
       "      <td>-0.012942</td>\n",
       "      <td>-0.003253</td>\n",
       "      <td>-0.002481</td>\n",
       "      <td>-0.083518</td>\n",
       "      <td>0.171373</td>\n",
       "    </tr>\n",
       "    <tr>\n",
       "      <th>merch_lat</th>\n",
       "      <td>-0.059014</td>\n",
       "      <td>-0.001133</td>\n",
       "      <td>-0.114322</td>\n",
       "      <td>0.993578</td>\n",
       "      <td>-0.013432</td>\n",
       "      <td>-0.153270</td>\n",
       "      <td>0.000581</td>\n",
       "      <td>1.000000</td>\n",
       "      <td>-0.013401</td>\n",
       "      <td>0.001468</td>\n",
       "      <td>0.046534</td>\n",
       "      <td>-0.010456</td>\n",
       "      <td>0.001262</td>\n",
       "      <td>-0.000862</td>\n",
       "    </tr>\n",
       "    <tr>\n",
       "      <th>merch_long</th>\n",
       "      <td>-0.048698</td>\n",
       "      <td>-0.001766</td>\n",
       "      <td>-0.908900</td>\n",
       "      <td>-0.013642</td>\n",
       "      <td>0.999118</td>\n",
       "      <td>-0.052269</td>\n",
       "      <td>0.000053</td>\n",
       "      <td>-0.013401</td>\n",
       "      <td>1.000000</td>\n",
       "      <td>-0.000180</td>\n",
       "      <td>-0.028659</td>\n",
       "      <td>-0.002528</td>\n",
       "      <td>0.000188</td>\n",
       "      <td>-0.001046</td>\n",
       "    </tr>\n",
       "    <tr>\n",
       "      <th>is_fraud</th>\n",
       "      <td>-0.000189</td>\n",
       "      <td>0.205802</td>\n",
       "      <td>-0.000794</td>\n",
       "      <td>0.001603</td>\n",
       "      <td>-0.000153</td>\n",
       "      <td>0.000572</td>\n",
       "      <td>-0.012942</td>\n",
       "      <td>0.001468</td>\n",
       "      <td>-0.000180</td>\n",
       "      <td>1.000000</td>\n",
       "      <td>0.012225</td>\n",
       "      <td>0.013830</td>\n",
       "      <td>0.007409</td>\n",
       "      <td>-0.012362</td>\n",
       "    </tr>\n",
       "    <tr>\n",
       "      <th>age</th>\n",
       "      <td>-0.000058</td>\n",
       "      <td>-0.010280</td>\n",
       "      <td>0.009515</td>\n",
       "      <td>0.046844</td>\n",
       "      <td>-0.028683</td>\n",
       "      <td>-0.090671</td>\n",
       "      <td>-0.003253</td>\n",
       "      <td>0.046534</td>\n",
       "      <td>-0.028659</td>\n",
       "      <td>0.012225</td>\n",
       "      <td>1.000000</td>\n",
       "      <td>-0.173704</td>\n",
       "      <td>-0.004955</td>\n",
       "      <td>0.001915</td>\n",
       "    </tr>\n",
       "    <tr>\n",
       "      <th>hour</th>\n",
       "      <td>-0.000984</td>\n",
       "      <td>-0.025355</td>\n",
       "      <td>0.006426</td>\n",
       "      <td>-0.010570</td>\n",
       "      <td>-0.002475</td>\n",
       "      <td>0.019982</td>\n",
       "      <td>-0.002481</td>\n",
       "      <td>-0.010456</td>\n",
       "      <td>-0.002528</td>\n",
       "      <td>0.013830</td>\n",
       "      <td>-0.173704</td>\n",
       "      <td>1.000000</td>\n",
       "      <td>0.001930</td>\n",
       "      <td>-0.001141</td>\n",
       "    </tr>\n",
       "    <tr>\n",
       "      <th>day</th>\n",
       "      <td>0.000132</td>\n",
       "      <td>0.001652</td>\n",
       "      <td>0.000081</td>\n",
       "      <td>0.001330</td>\n",
       "      <td>0.000246</td>\n",
       "      <td>0.000098</td>\n",
       "      <td>-0.083518</td>\n",
       "      <td>0.001262</td>\n",
       "      <td>0.000188</td>\n",
       "      <td>0.007409</td>\n",
       "      <td>-0.004955</td>\n",
       "      <td>0.001930</td>\n",
       "      <td>1.000000</td>\n",
       "      <td>0.006475</td>\n",
       "    </tr>\n",
       "    <tr>\n",
       "      <th>month</th>\n",
       "      <td>-0.000501</td>\n",
       "      <td>-0.001717</td>\n",
       "      <td>0.000905</td>\n",
       "      <td>-0.000849</td>\n",
       "      <td>-0.001057</td>\n",
       "      <td>0.000582</td>\n",
       "      <td>0.171373</td>\n",
       "      <td>-0.000862</td>\n",
       "      <td>-0.001046</td>\n",
       "      <td>-0.012362</td>\n",
       "      <td>0.001915</td>\n",
       "      <td>-0.001141</td>\n",
       "      <td>0.006475</td>\n",
       "      <td>1.000000</td>\n",
       "    </tr>\n",
       "  </tbody>\n",
       "</table>\n",
       "</div>\n",
       "      <button class=\"colab-df-convert\" onclick=\"convertToInteractive('df-43825607-2483-41c0-892b-30bc2bc7c709')\"\n",
       "              title=\"Convert this dataframe to an interactive table.\"\n",
       "              style=\"display:none;\">\n",
       "        \n",
       "  <svg xmlns=\"http://www.w3.org/2000/svg\" height=\"24px\"viewBox=\"0 0 24 24\"\n",
       "       width=\"24px\">\n",
       "    <path d=\"M0 0h24v24H0V0z\" fill=\"none\"/>\n",
       "    <path d=\"M18.56 5.44l.94 2.06.94-2.06 2.06-.94-2.06-.94-.94-2.06-.94 2.06-2.06.94zm-11 1L8.5 8.5l.94-2.06 2.06-.94-2.06-.94L8.5 2.5l-.94 2.06-2.06.94zm10 10l.94 2.06.94-2.06 2.06-.94-2.06-.94-.94-2.06-.94 2.06-2.06.94z\"/><path d=\"M17.41 7.96l-1.37-1.37c-.4-.4-.92-.59-1.43-.59-.52 0-1.04.2-1.43.59L10.3 9.45l-7.72 7.72c-.78.78-.78 2.05 0 2.83L4 21.41c.39.39.9.59 1.41.59.51 0 1.02-.2 1.41-.59l7.78-7.78 2.81-2.81c.8-.78.8-2.07 0-2.86zM5.41 20L4 18.59l7.72-7.72 1.47 1.35L5.41 20z\"/>\n",
       "  </svg>\n",
       "      </button>\n",
       "      \n",
       "  <style>\n",
       "    .colab-df-container {\n",
       "      display:flex;\n",
       "      flex-wrap:wrap;\n",
       "      gap: 12px;\n",
       "    }\n",
       "\n",
       "    .colab-df-convert {\n",
       "      background-color: #E8F0FE;\n",
       "      border: none;\n",
       "      border-radius: 50%;\n",
       "      cursor: pointer;\n",
       "      display: none;\n",
       "      fill: #1967D2;\n",
       "      height: 32px;\n",
       "      padding: 0 0 0 0;\n",
       "      width: 32px;\n",
       "    }\n",
       "\n",
       "    .colab-df-convert:hover {\n",
       "      background-color: #E2EBFA;\n",
       "      box-shadow: 0px 1px 2px rgba(60, 64, 67, 0.3), 0px 1px 3px 1px rgba(60, 64, 67, 0.15);\n",
       "      fill: #174EA6;\n",
       "    }\n",
       "\n",
       "    [theme=dark] .colab-df-convert {\n",
       "      background-color: #3B4455;\n",
       "      fill: #D2E3FC;\n",
       "    }\n",
       "\n",
       "    [theme=dark] .colab-df-convert:hover {\n",
       "      background-color: #434B5C;\n",
       "      box-shadow: 0px 1px 3px 1px rgba(0, 0, 0, 0.15);\n",
       "      filter: drop-shadow(0px 1px 2px rgba(0, 0, 0, 0.3));\n",
       "      fill: #FFFFFF;\n",
       "    }\n",
       "  </style>\n",
       "\n",
       "      <script>\n",
       "        const buttonEl =\n",
       "          document.querySelector('#df-43825607-2483-41c0-892b-30bc2bc7c709 button.colab-df-convert');\n",
       "        buttonEl.style.display =\n",
       "          google.colab.kernel.accessAllowed ? 'block' : 'none';\n",
       "\n",
       "        async function convertToInteractive(key) {\n",
       "          const element = document.querySelector('#df-43825607-2483-41c0-892b-30bc2bc7c709');\n",
       "          const dataTable =\n",
       "            await google.colab.kernel.invokeFunction('convertToInteractive',\n",
       "                                                     [key], {});\n",
       "          if (!dataTable) return;\n",
       "\n",
       "          const docLinkHtml = 'Like what you see? Visit the ' +\n",
       "            '<a target=\"_blank\" href=https://colab.research.google.com/notebooks/data_table.ipynb>data table notebook</a>'\n",
       "            + ' to learn more about interactive tables.';\n",
       "          element.innerHTML = '';\n",
       "          dataTable['output_type'] = 'display_data';\n",
       "          await google.colab.output.renderOutput(dataTable, element);\n",
       "          const docLink = document.createElement('div');\n",
       "          docLink.innerHTML = docLinkHtml;\n",
       "          element.appendChild(docLink);\n",
       "        }\n",
       "      </script>\n",
       "    </div>\n",
       "  </div>\n",
       "  "
      ],
      "text/plain": [
       "              cc_num       amt       zip       lat      long  city_pop  \\\n",
       "cc_num      1.000000  0.002406  0.041563 -0.059383 -0.048686 -0.009103   \n",
       "amt         0.002406  1.000000  0.003019 -0.001305 -0.001797  0.004777   \n",
       "zip         0.041563  0.003019  1.000000 -0.114866 -0.909715  0.077161   \n",
       "lat        -0.059383 -0.001305 -0.114866  1.000000 -0.013675 -0.154196   \n",
       "long       -0.048686 -0.001797 -0.909715 -0.013675  1.000000 -0.052315   \n",
       "city_pop   -0.009103  0.004777  0.077161 -0.154196 -0.052315  1.000000   \n",
       "unix_time   0.000200 -0.002360  0.000452  0.000684  0.000063 -0.001212   \n",
       "merch_lat  -0.059014 -0.001133 -0.114322  0.993578 -0.013432 -0.153270   \n",
       "merch_long -0.048698 -0.001766 -0.908900 -0.013642  0.999118 -0.052269   \n",
       "is_fraud   -0.000189  0.205802 -0.000794  0.001603 -0.000153  0.000572   \n",
       "age        -0.000058 -0.010280  0.009515  0.046844 -0.028683 -0.090671   \n",
       "hour       -0.000984 -0.025355  0.006426 -0.010570 -0.002475  0.019982   \n",
       "day         0.000132  0.001652  0.000081  0.001330  0.000246  0.000098   \n",
       "month      -0.000501 -0.001717  0.000905 -0.000849 -0.001057  0.000582   \n",
       "\n",
       "            unix_time  merch_lat  merch_long  is_fraud       age      hour  \\\n",
       "cc_num       0.000200  -0.059014   -0.048698 -0.000189 -0.000058 -0.000984   \n",
       "amt         -0.002360  -0.001133   -0.001766  0.205802 -0.010280 -0.025355   \n",
       "zip          0.000452  -0.114322   -0.908900 -0.000794  0.009515  0.006426   \n",
       "lat          0.000684   0.993578   -0.013642  0.001603  0.046844 -0.010570   \n",
       "long         0.000063  -0.013432    0.999118 -0.000153 -0.028683 -0.002475   \n",
       "city_pop    -0.001212  -0.153270   -0.052269  0.000572 -0.090671  0.019982   \n",
       "unix_time    1.000000   0.000581    0.000053 -0.012942 -0.003253 -0.002481   \n",
       "merch_lat    0.000581   1.000000   -0.013401  0.001468  0.046534 -0.010456   \n",
       "merch_long   0.000053  -0.013401    1.000000 -0.000180 -0.028659 -0.002528   \n",
       "is_fraud    -0.012942   0.001468   -0.000180  1.000000  0.012225  0.013830   \n",
       "age         -0.003253   0.046534   -0.028659  0.012225  1.000000 -0.173704   \n",
       "hour        -0.002481  -0.010456   -0.002528  0.013830 -0.173704  1.000000   \n",
       "day         -0.083518   0.001262    0.000188  0.007409 -0.004955  0.001930   \n",
       "month        0.171373  -0.000862   -0.001046 -0.012362  0.001915 -0.001141   \n",
       "\n",
       "                 day     month  \n",
       "cc_num      0.000132 -0.000501  \n",
       "amt         0.001652 -0.001717  \n",
       "zip         0.000081  0.000905  \n",
       "lat         0.001330 -0.000849  \n",
       "long        0.000246 -0.001057  \n",
       "city_pop    0.000098  0.000582  \n",
       "unix_time  -0.083518  0.171373  \n",
       "merch_lat   0.001262 -0.000862  \n",
       "merch_long  0.000188 -0.001046  \n",
       "is_fraud    0.007409 -0.012362  \n",
       "age        -0.004955  0.001915  \n",
       "hour        0.001930 -0.001141  \n",
       "day         1.000000  0.006475  \n",
       "month       0.006475  1.000000  "
      ]
     },
     "execution_count": 26,
     "metadata": {},
     "output_type": "execute_result"
    }
   ],
   "source": [
    "#check correlation\n",
    "\n",
    "df.corr()"
   ]
  },
  {
   "cell_type": "markdown",
   "id": "f7539524",
   "metadata": {
    "id": "f7539524",
    "papermill": {
     "duration": 0.006341,
     "end_time": "2022-07-17T05:18:59.990575",
     "exception": false,
     "start_time": "2022-07-17T05:18:59.984234",
     "status": "completed"
    },
    "tags": []
   },
   "source": [
    "## Count plot of Target Variable (Fraud)"
   ]
  },
  {
   "cell_type": "code",
   "execution_count": 10,
   "id": "OK-A72Olz2Fr",
   "metadata": {
    "colab": {
     "base_uri": "https://localhost:8080/",
     "height": 313
    },
    "id": "OK-A72Olz2Fr",
    "outputId": "1977d1da-9f5d-48e5-c143-d24731e6c751"
   },
   "outputs": [
    {
     "data": {
      "image/png": "[encoded data removed]",
      "text/plain": [
       "<Figure size 432x288 with 1 Axes>"
      ]
     },
     "metadata": {
      "needs_background": "light"
     },
     "output_type": "display_data"
    }
   ],
   "source": [
    "sns.countplot(x=df['is_fraud'])\n",
    "plt.title('Class Distributions \\n (0: Non Fraud || 1: Fraud)', fontsize=14);"
   ]
  },
  {
   "cell_type": "markdown",
   "id": "5f4e25c9",
   "metadata": {},
   "source": [
    "We can visually see how heavily imbalanced our data set is."
   ]
  },
  {
   "cell_type": "markdown",
   "id": "5b35b932",
   "metadata": {},
   "source": [
    "## Amount vs Fraud"
   ]
  },
  {
   "cell_type": "code",
   "execution_count": 11,
   "id": "217987c6",
   "metadata": {
    "colab": {
     "base_uri": "https://localhost:8080/",
     "height": 279
    },
    "execution": {
     "iopub.execute_input": "2022-07-17T05:19:00.137446Z",
     "iopub.status.busy": "2022-07-17T05:19:00.137032Z",
     "iopub.status.idle": "2022-07-17T05:19:01.189990Z",
     "shell.execute_reply": "2022-07-17T05:19:01.189279Z"
    },
    "id": "217987c6",
    "outputId": "893f4d51-b247-41ea-88a4-90c7b1b72f61",
    "papermill": {
     "duration": 1.063635,
     "end_time": "2022-07-17T05:19:01.191901",
     "exception": false,
     "start_time": "2022-07-17T05:19:00.128266",
     "status": "completed"
    },
    "tags": []
   },
   "outputs": [
    {
     "data": {
      "image/png": "[encoded data removed]",
      "text/plain": [
       "<Figure size 432x288 with 1 Axes>"
      ]
     },
     "metadata": {
      "needs_background": "light"
     },
     "output_type": "display_data"
    }
   ],
   "source": [
    "#amount vs fraud\n",
    "\n",
    "ax = plt.subplots(figsize=(15, 8))\n",
    "ax=sns.histplot(x='amt',data=df[df.amt<=1000],hue='is_fraud',stat='percent',multiple='dodge',common_norm=False,bins=25)\n",
    "ax.set_ylabel('Percentage in Each Type')\n",
    "ax.set_xlabel('Transaction Amount in USD')\n",
    "plt.legend(title='Type', labels=['Fraud', 'Not Fraud']);"
   ]
  },
  {
   "cell_type": "markdown",
   "id": "27fd0937",
   "metadata": {
    "id": "27fd0937",
    "papermill": {
     "duration": 0.007899,
     "end_time": "2022-07-17T05:19:01.207720",
     "exception": false,
     "start_time": "2022-07-17T05:19:01.199821",
     "status": "completed"
    },
    "tags": []
   },
   "source": [
    "Normal transactions tend to be around \\\\$200 or less, we see fraudulent transactions peak around \\\\$300 and then at the \\$800-\\\\$1000 range. "
   ]
  },
  {
   "cell_type": "markdown",
   "id": "68ca53c8",
   "metadata": {
    "id": "68ca53c8",
    "papermill": {
     "duration": 0.008412,
     "end_time": "2022-07-17T05:19:02.499586",
     "exception": false,
     "start_time": "2022-07-17T05:19:02.491174",
     "status": "completed"
    },
    "tags": []
   },
   "source": [
    "## Spending Category vs Fraud\n"
   ]
  },
  {
   "cell_type": "code",
   "execution_count": 15,
   "id": "b5052822",
   "metadata": {
    "colab": {
     "base_uri": "https://localhost:8080/",
     "height": 545
    },
    "execution": {
     "iopub.execute_input": "2022-07-17T05:19:02.519115Z",
     "iopub.status.busy": "2022-07-17T05:19:02.518351Z",
     "iopub.status.idle": "2022-07-17T05:19:03.183381Z",
     "shell.execute_reply": "2022-07-17T05:19:03.182473Z"
    },
    "id": "b5052822",
    "outputId": "b4d2b7e9-7274-4aed-ed3b-b1b36101997d",
    "papermill": {
     "duration": 0.676828,
     "end_time": "2022-07-17T05:19:03.185375",
     "exception": false,
     "start_time": "2022-07-17T05:19:02.508547",
     "status": "completed"
    },
    "tags": []
   },
   "outputs": [
    {
     "data": {
      "image/png": "[encoded data removed]",
      "text/plain": [
       "<Figure size 720x576 with 1 Axes>"
      ]
     },
     "metadata": {
      "needs_background": "light"
     },
     "output_type": "display_data"
    }
   ],
   "source": [
    "df[(df['is_fraud']==1)].category.value_counts(normalize= True, ascending= False).plot(kind='bar', figsize=(10,8));"
   ]
  },
  {
   "cell_type": "markdown",
   "id": "8adcc508",
   "metadata": {
    "id": "8adcc508",
    "papermill": {
     "duration": 0.009232,
     "end_time": "2022-07-17T05:19:03.204168",
     "exception": false,
     "start_time": "2022-07-17T05:19:03.194936",
     "status": "completed"
    },
    "tags": []
   },
   "source": [
    "Some spending categories indeed see more fraud than others! Fraud tends to happen more often in 'Shopping_net', 'Grocery_pos', and 'misc_net'."
   ]
  },
  {
   "cell_type": "markdown",
   "id": "0e2c88c8",
   "metadata": {
    "id": "0e2c88c8",
    "papermill": {
     "duration": 0.009042,
     "end_time": "2022-07-17T05:19:03.222603",
     "exception": false,
     "start_time": "2022-07-17T05:19:03.213561",
     "status": "completed"
    },
    "tags": []
   },
   "source": [
    "##  Age vs Fraud\n",
    " "
   ]
  },
  {
   "cell_type": "code",
   "execution_count": 20,
   "id": "a03f1846",
   "metadata": {
    "colab": {
     "base_uri": "https://localhost:8080/",
     "height": 513
    },
    "execution": {
     "iopub.execute_input": "2022-07-17T05:19:03.243108Z",
     "iopub.status.busy": "2022-07-17T05:19:03.242496Z",
     "iopub.status.idle": "2022-07-17T05:19:09.149410Z",
     "shell.execute_reply": "2022-07-17T05:19:09.148529Z"
    },
    "id": "a03f1846",
    "outputId": "7d05a989-2c40-4499-eaa2-7fb289f5d2bb",
    "papermill": {
     "duration": 5.920154,
     "end_time": "2022-07-17T05:19:09.152153",
     "exception": false,
     "start_time": "2022-07-17T05:19:03.231999",
     "status": "completed"
    },
    "tags": []
   },
   "outputs": [
    {
     "data": {
      "image/png": "[encoded data removed]",
      "text/plain": [
       "<Figure size 1080x576 with 1 Axes>"
      ]
     },
     "metadata": {
      "needs_background": "light"
     },
     "output_type": "display_data"
    }
   ],
   "source": [
    "#age vs fraud\n",
    "import datetime as dt\n",
    "df['age']=dt.date.today().year-pd.to_datetime(df['dob']).dt.year\n",
    "ax = plt.subplots(figsize=(15, 8))\n",
    "ax=sns.kdeplot(x='age',data=df, hue='is_fraud', common_norm=False)\n",
    "ax.set_xlabel('Credit Card Holder Age')\n",
    "ax.set_ylabel('Density')\n",
    "plt.xticks(np.arange(0,110,5))\n",
    "plt.title('Age Distribution in Fraudulent vs Non-Fraudulent Transactions')\n",
    "plt.legend(title='Type', labels=['Fraud', 'Not Fraud']);"
   ]
  },
  {
   "cell_type": "markdown",
   "id": "fb68dba8",
   "metadata": {
    "id": "fb68dba8",
    "papermill": {
     "duration": 0.010014,
     "end_time": "2022-07-17T05:19:09.172731",
     "exception": false,
     "start_time": "2022-07-17T05:19:09.162717",
     "status": "completed"
    },
    "tags": []
   },
   "source": [
    "The age distribution is visibly different between 2 transaction types. In normal transactions, there are 2 peaks at the age of 37-38 and 49-50, while in fraudulent transactions, the age distribution is a little smoother and the second peak does include a wider age group from 50-65. This does suggest that older people are potentially more prone to fraud."
   ]
  },
  {
   "cell_type": "markdown",
   "id": "a354aae0",
   "metadata": {
    "id": "a354aae0",
    "papermill": {
     "duration": 0.009879,
     "end_time": "2022-07-17T05:19:09.192876",
     "exception": false,
     "start_time": "2022-07-17T05:19:09.182997",
     "status": "completed"
    },
    "tags": []
   },
   "source": [
    "## Cyclicality of Credit Card Fraud"
   ]
  },
  {
   "cell_type": "markdown",
   "id": "c0559c4c",
   "metadata": {
    "id": "c0559c4c",
    "papermill": {
     "duration": 0.009833,
     "end_time": "2022-07-17T05:19:09.232794",
     "exception": false,
     "start_time": "2022-07-17T05:19:09.222961",
     "status": "completed"
    },
    "tags": []
   },
   "source": [
    "#### Hourly Trend"
   ]
  },
  {
   "cell_type": "code",
   "execution_count": 21,
   "id": "9c4ab812",
   "metadata": {
    "colab": {
     "base_uri": "https://localhost:8080/",
     "height": 497
    },
    "execution": {
     "iopub.execute_input": "2022-07-17T05:19:09.255310Z",
     "iopub.status.busy": "2022-07-17T05:19:09.254473Z",
     "iopub.status.idle": "2022-07-17T05:19:10.818314Z",
     "shell.execute_reply": "2022-07-17T05:19:10.817087Z"
    },
    "id": "9c4ab812",
    "outputId": "85dde8b1-d1cd-453e-906e-c43e9775f42a",
    "papermill": {
     "duration": 1.577792,
     "end_time": "2022-07-17T05:19:10.820689",
     "exception": false,
     "start_time": "2022-07-17T05:19:09.242897",
     "status": "completed"
    },
    "tags": []
   },
   "outputs": [
    {
     "data": {
      "image/png": "[encoded data removed]",
      "text/plain": [
       "<Figure size 1080x576 with 1 Axes>"
      ]
     },
     "metadata": {
      "needs_background": "light"
     },
     "output_type": "display_data"
    }
   ],
   "source": [
    "#time in a day vs fraud\n",
    "\n",
    "df['hour']=pd.to_datetime(df['trans_date_trans_time']).dt.hour\n",
    "ax = plt.subplots(figsize=(15, 8))\n",
    "ax=sns.histplot(data=df, x=\"hour\", hue=\"is_fraud\", common_norm=False,stat='percent',multiple='dodge')\n",
    "ax.set_ylabel('Percentage')\n",
    "ax.set_xlabel('Time (Hour) in a Day')\n",
    "plt.xticks(np.arange(0,24,1))\n",
    "plt.legend(title='Type', labels=['Fraud', 'Not Fraud']);"
   ]
  },
  {
   "cell_type": "markdown",
   "id": "1304e08f",
   "metadata": {
    "id": "1304e08f",
    "papermill": {
     "duration": 0.010762,
     "end_time": "2022-07-17T05:19:10.842661",
     "exception": false,
     "start_time": "2022-07-17T05:19:10.831899",
     "status": "completed"
    },
    "tags": []
   },
   "source": [
    "A very sharp contrast! While normal transactions distribute more or less equally throughout the day, fraudulent payments happen disproportionately around midnight when most people are asleep!"
   ]
  },
  {
   "cell_type": "markdown",
   "id": "4d04d183",
   "metadata": {
    "id": "4d04d183",
    "papermill": {
     "duration": 0.010825,
     "end_time": "2022-07-17T05:19:10.864678",
     "exception": false,
     "start_time": "2022-07-17T05:19:10.853853",
     "status": "completed"
    },
    "tags": []
   },
   "source": [
    "#### Weekly Trend"
   ]
  },
  {
   "cell_type": "code",
   "execution_count": 22,
   "id": "5221c069",
   "metadata": {
    "colab": {
     "base_uri": "https://localhost:8080/",
     "height": 497
    },
    "execution": {
     "iopub.execute_input": "2022-07-17T05:19:10.889743Z",
     "iopub.status.busy": "2022-07-17T05:19:10.888940Z",
     "iopub.status.idle": "2022-07-17T05:19:12.115285Z",
     "shell.execute_reply": "2022-07-17T05:19:12.114178Z"
    },
    "id": "5221c069",
    "outputId": "ecc5fd9d-2f8b-4905-bb2a-c088a2cdd445",
    "papermill": {
     "duration": 1.241632,
     "end_time": "2022-07-17T05:19:12.117572",
     "exception": false,
     "start_time": "2022-07-17T05:19:10.875940",
     "status": "completed"
    },
    "tags": []
   },
   "outputs": [
    {
     "data": {
      "image/png": "[encoded data removed]",
      "text/plain": [
       "<Figure size 1080x576 with 1 Axes>"
      ]
     },
     "metadata": {
      "needs_background": "light"
     },
     "output_type": "display_data"
    }
   ],
   "source": [
    "#day of week vs fraud\n",
    "df['day']=pd.to_datetime(df['trans_date_trans_time']).dt.dayofweek\n",
    "ax = plt.subplots(figsize=(15, 8))\n",
    "ax=sns.histplot(data=df, x=\"day\", hue=\"is_fraud\", common_norm=False,stat='percent',multiple='dodge')\n",
    "ax.set_xticklabels(['',\"Mon\",\"Tue\",\"Wed\",\"Thu\",\"Fri\",\"Sat\",\"Sun\"])\n",
    "ax.set_ylabel('Percentage')\n",
    "ax.set_xlabel('Day of Week')\n",
    "plt.legend(title='Type', labels=['Fraud', 'Not Fraud']);"
   ]
  },
  {
   "cell_type": "markdown",
   "id": "1a141460",
   "metadata": {
    "id": "1a141460",
    "papermill": {
     "duration": 0.011123,
     "end_time": "2022-07-17T05:19:12.139931",
     "exception": false,
     "start_time": "2022-07-17T05:19:12.128808",
     "status": "completed"
    },
    "tags": []
   },
   "source": [
    "Normal transactions tend to happen more often on Monday and Sunday while fraudulent ones tend to spread out more evenly throughout the week. "
   ]
  },
  {
   "cell_type": "markdown",
   "id": "c97d1482",
   "metadata": {
    "id": "c97d1482",
    "papermill": {
     "duration": 0.01111,
     "end_time": "2022-07-17T05:19:12.162715",
     "exception": false,
     "start_time": "2022-07-17T05:19:12.151605",
     "status": "completed"
    },
    "tags": []
   },
   "source": [
    "#### Monthly Trend"
   ]
  },
  {
   "cell_type": "code",
   "execution_count": 23,
   "id": "3294cabd",
   "metadata": {
    "colab": {
     "base_uri": "https://localhost:8080/",
     "height": 497
    },
    "execution": {
     "iopub.execute_input": "2022-07-17T05:19:12.187707Z",
     "iopub.status.busy": "2022-07-17T05:19:12.187066Z",
     "iopub.status.idle": "2022-07-17T05:19:13.460627Z",
     "shell.execute_reply": "2022-07-17T05:19:13.459549Z"
    },
    "id": "3294cabd",
    "outputId": "75bee517-6fe9-4ab4-ae2e-97d750ab172c",
    "papermill": {
     "duration": 1.288701,
     "end_time": "2022-07-17T05:19:13.462879",
     "exception": false,
     "start_time": "2022-07-17T05:19:12.174178",
     "status": "completed"
    },
    "tags": []
   },
   "outputs": [
    {
     "data": {
      "image/png": "[encoded data removed]",
      "text/plain": [
       "<Figure size 1080x576 with 1 Axes>"
      ]
     },
     "metadata": {
      "needs_background": "light"
     },
     "output_type": "display_data"
    }
   ],
   "source": [
    "#month vs fraud\n",
    "df['month']=pd.to_datetime(df['trans_date_trans_time']).dt.month\n",
    "ax = plt.subplots(figsize=(15, 8))\n",
    "ax=sns.histplot(data=df, x=\"month\", hue=\"is_fraud\", common_norm=False,stat='percent',multiple='dodge')\n",
    "ax.set_ylabel('Percentage')\n",
    "ax.set_xlabel('Month')\n",
    "plt.xticks(np.arange(1,13,1))\n",
    "ax.set_xticklabels([\"Jan\",\"Feb\",\"Mar\",\"Apr\",\"May\",\"Jun\",\"Jul\",'Aug','Sep','Oct','Nov','Dec'])\n",
    "plt.legend(title='Type', labels=['Fraud', 'Not Fraud']);"
   ]
  },
  {
   "cell_type": "markdown",
   "id": "bd654859",
   "metadata": {
    "id": "bd654859",
    "papermill": {
     "duration": 0.011591,
     "end_time": "2022-07-17T05:19:13.486296",
     "exception": false,
     "start_time": "2022-07-17T05:19:13.474705",
     "status": "completed"
    },
    "tags": []
   },
   "source": [
    "Very interesting results! While normal payments peak around December (Christmas), and then late spring to early summer, fraudulent transactions are more concentrated in Jan-May. There is a clear seasonal trend."
   ]
  },
  {
   "cell_type": "markdown",
   "id": "9804633d",
   "metadata": {
    "id": "9804633d",
    "papermill": {
     "duration": 0.011863,
     "end_time": "2022-07-17T05:19:13.510000",
     "exception": false,
     "start_time": "2022-07-17T05:19:13.498137",
     "status": "completed"
    },
    "tags": []
   },
   "source": [
    "## State vs Fraud"
   ]
  },
  {
   "cell_type": "code",
   "execution_count": 24,
   "id": "bebbd36d",
   "metadata": {
    "colab": {
     "base_uri": "https://localhost:8080/",
     "height": 598
    },
    "execution": {
     "iopub.execute_input": "2022-07-17T05:19:13.534937Z",
     "iopub.status.busy": "2022-07-17T05:19:13.534601Z",
     "iopub.status.idle": "2022-07-17T05:19:14.269837Z",
     "shell.execute_reply": "2022-07-17T05:19:14.268711Z"
    },
    "id": "bebbd36d",
    "outputId": "3b1391c3-4bfb-4935-d0cd-5dfea6040cbc",
    "papermill": {
     "duration": 0.750233,
     "end_time": "2022-07-17T05:19:14.272082",
     "exception": false,
     "start_time": "2022-07-17T05:19:13.521849",
     "status": "completed"
    },
    "tags": []
   },
   "outputs": [
    {
     "data": {
      "image/png": "[encoded data removed]",
      "text/plain": [
       "<Figure size 1080x720 with 1 Axes>"
      ]
     },
     "metadata": {
      "needs_background": "light"
     },
     "output_type": "display_data"
    }
   ],
   "source": [
    "df[(df['is_fraud']==1)].state.value_counts(normalize= True, ascending= False).plot(kind='bar', figsize=(15,10));"
   ]
  },
  {
   "cell_type": "markdown",
   "id": "5d689de6",
   "metadata": {
    "id": "5d689de6",
    "papermill": {
     "duration": 0.01414,
     "end_time": "2022-07-17T05:19:14.299781",
     "exception": false,
     "start_time": "2022-07-17T05:19:14.285641",
     "status": "completed"
    },
    "tags": []
   },
   "source": [
    "As can be seen, NY TX and PA among others have a higher count of fraudulent transactions."
   ]
  },
  {
   "cell_type": "markdown",
   "id": "7c2172b7",
   "metadata": {
    "id": "7c2172b7",
    "papermill": {
     "duration": 0.011924,
     "end_time": "2022-07-17T05:19:14.324086",
     "exception": false,
     "start_time": "2022-07-17T05:19:14.312162",
     "status": "completed"
    },
    "tags": []
   },
   "source": [
    "# Data Modeling "
   ]
  },
  {
   "cell_type": "markdown",
   "id": "c3ef6e74",
   "metadata": {},
   "source": [
    "## Feature Selection"
   ]
  },
  {
   "cell_type": "code",
   "execution_count": 8,
   "id": "KtNlh6MB6I24",
   "metadata": {
    "id": "KtNlh6MB6I24"
   },
   "outputs": [],
   "source": [
    "#Numerical Features\n",
    "\n",
    "df_nu = df.select_dtypes(exclude=[\"object\"]).copy()"
   ]
  },
  {
   "cell_type": "code",
   "execution_count": 9,
   "id": "NBlhgDQx6Imf",
   "metadata": {
    "id": "NBlhgDQx6Imf"
   },
   "outputs": [],
   "source": [
    "Xnum = df_nu.drop([\"is_fraud\"], axis= \"columns\")\n",
    "ynum = df_nu.is_fraud"
   ]
  },
  {
   "cell_type": "code",
   "execution_count": 10,
   "id": "zZIOVSIV7PYV",
   "metadata": {
    "colab": {
     "base_uri": "https://localhost:8080/",
     "height": 332
    },
    "id": "zZIOVSIV7PYV",
    "outputId": "feac2ad8-8b84-4dd9-a165-d8ebc4044ebc"
   },
   "outputs": [
    {
     "data": {
      "text/html": [
       "\n",
       "  <div id=\"df-3597a5f4-7e4d-448a-a3f4-8e1a7d3ecb7f\">\n",
       "    <div class=\"colab-df-container\">\n",
       "      <div>\n",
       "<style scoped>\n",
       "    .dataframe tbody tr th:only-of-type {\n",
       "        vertical-align: middle;\n",
       "    }\n",
       "\n",
       "    .dataframe tbody tr th {\n",
       "        vertical-align: top;\n",
       "    }\n",
       "\n",
       "    .dataframe thead th {\n",
       "        text-align: right;\n",
       "    }\n",
       "</style>\n",
       "<table border=\"1\" class=\"dataframe\">\n",
       "  <thead>\n",
       "    <tr style=\"text-align: right;\">\n",
       "      <th></th>\n",
       "      <th>Pearson Corr.</th>\n",
       "      <th>p-value</th>\n",
       "    </tr>\n",
       "  </thead>\n",
       "  <tbody>\n",
       "    <tr>\n",
       "      <th>cc_num</th>\n",
       "      <td>-0.0002</td>\n",
       "      <td>0.8297</td>\n",
       "    </tr>\n",
       "    <tr>\n",
       "      <th>amt</th>\n",
       "      <td>0.2058</td>\n",
       "      <td>0.0000</td>\n",
       "    </tr>\n",
       "    <tr>\n",
       "      <th>zip</th>\n",
       "      <td>-0.0008</td>\n",
       "      <td>0.3662</td>\n",
       "    </tr>\n",
       "    <tr>\n",
       "      <th>lat</th>\n",
       "      <td>0.0016</td>\n",
       "      <td>0.0679</td>\n",
       "    </tr>\n",
       "    <tr>\n",
       "      <th>long</th>\n",
       "      <td>-0.0002</td>\n",
       "      <td>0.8616</td>\n",
       "    </tr>\n",
       "    <tr>\n",
       "      <th>city_pop</th>\n",
       "      <td>0.0006</td>\n",
       "      <td>0.5150</td>\n",
       "    </tr>\n",
       "    <tr>\n",
       "      <th>unix_time</th>\n",
       "      <td>-0.0129</td>\n",
       "      <td>0.0000</td>\n",
       "    </tr>\n",
       "    <tr>\n",
       "      <th>merch_lat</th>\n",
       "      <td>0.0015</td>\n",
       "      <td>0.0947</td>\n",
       "    </tr>\n",
       "    <tr>\n",
       "      <th>merch_long</th>\n",
       "      <td>-0.0002</td>\n",
       "      <td>0.8379</td>\n",
       "    </tr>\n",
       "  </tbody>\n",
       "</table>\n",
       "</div>\n",
       "      <button class=\"colab-df-convert\" onclick=\"convertToInteractive('df-3597a5f4-7e4d-448a-a3f4-8e1a7d3ecb7f')\"\n",
       "              title=\"Convert this dataframe to an interactive table.\"\n",
       "              style=\"display:none;\">\n",
       "        \n",
       "  <svg xmlns=\"http://www.w3.org/2000/svg\" height=\"24px\"viewBox=\"0 0 24 24\"\n",
       "       width=\"24px\">\n",
       "    <path d=\"M0 0h24v24H0V0z\" fill=\"none\"/>\n",
       "    <path d=\"M18.56 5.44l.94 2.06.94-2.06 2.06-.94-2.06-.94-.94-2.06-.94 2.06-2.06.94zm-11 1L8.5 8.5l.94-2.06 2.06-.94-2.06-.94L8.5 2.5l-.94 2.06-2.06.94zm10 10l.94 2.06.94-2.06 2.06-.94-2.06-.94-.94-2.06-.94 2.06-2.06.94z\"/><path d=\"M17.41 7.96l-1.37-1.37c-.4-.4-.92-.59-1.43-.59-.52 0-1.04.2-1.43.59L10.3 9.45l-7.72 7.72c-.78.78-.78 2.05 0 2.83L4 21.41c.39.39.9.59 1.41.59.51 0 1.02-.2 1.41-.59l7.78-7.78 2.81-2.81c.8-.78.8-2.07 0-2.86zM5.41 20L4 18.59l7.72-7.72 1.47 1.35L5.41 20z\"/>\n",
       "  </svg>\n",
       "      </button>\n",
       "      \n",
       "  <style>\n",
       "    .colab-df-container {\n",
       "      display:flex;\n",
       "      flex-wrap:wrap;\n",
       "      gap: 12px;\n",
       "    }\n",
       "\n",
       "    .colab-df-convert {\n",
       "      background-color: #E8F0FE;\n",
       "      border: none;\n",
       "      border-radius: 50%;\n",
       "      cursor: pointer;\n",
       "      display: none;\n",
       "      fill: #1967D2;\n",
       "      height: 32px;\n",
       "      padding: 0 0 0 0;\n",
       "      width: 32px;\n",
       "    }\n",
       "\n",
       "    .colab-df-convert:hover {\n",
       "      background-color: #E2EBFA;\n",
       "      box-shadow: 0px 1px 2px rgba(60, 64, 67, 0.3), 0px 1px 3px 1px rgba(60, 64, 67, 0.15);\n",
       "      fill: #174EA6;\n",
       "    }\n",
       "\n",
       "    [theme=dark] .colab-df-convert {\n",
       "      background-color: #3B4455;\n",
       "      fill: #D2E3FC;\n",
       "    }\n",
       "\n",
       "    [theme=dark] .colab-df-convert:hover {\n",
       "      background-color: #434B5C;\n",
       "      box-shadow: 0px 1px 3px 1px rgba(0, 0, 0, 0.15);\n",
       "      filter: drop-shadow(0px 1px 2px rgba(0, 0, 0, 0.3));\n",
       "      fill: #FFFFFF;\n",
       "    }\n",
       "  </style>\n",
       "\n",
       "      <script>\n",
       "        const buttonEl =\n",
       "          document.querySelector('#df-3597a5f4-7e4d-448a-a3f4-8e1a7d3ecb7f button.colab-df-convert');\n",
       "        buttonEl.style.display =\n",
       "          google.colab.kernel.accessAllowed ? 'block' : 'none';\n",
       "\n",
       "        async function convertToInteractive(key) {\n",
       "          const element = document.querySelector('#df-3597a5f4-7e4d-448a-a3f4-8e1a7d3ecb7f');\n",
       "          const dataTable =\n",
       "            await google.colab.kernel.invokeFunction('convertToInteractive',\n",
       "                                                     [key], {});\n",
       "          if (!dataTable) return;\n",
       "\n",
       "          const docLinkHtml = 'Like what you see? Visit the ' +\n",
       "            '<a target=\"_blank\" href=https://colab.research.google.com/notebooks/data_table.ipynb>data table notebook</a>'\n",
       "            + ' to learn more about interactive tables.';\n",
       "          element.innerHTML = '';\n",
       "          dataTable['output_type'] = 'display_data';\n",
       "          await google.colab.output.renderOutput(dataTable, element);\n",
       "          const docLink = document.createElement('div');\n",
       "          docLink.innerHTML = docLinkHtml;\n",
       "          element.appendChild(docLink);\n",
       "        }\n",
       "      </script>\n",
       "    </div>\n",
       "  </div>\n",
       "  "
      ],
      "text/plain": [
       "            Pearson Corr.  p-value\n",
       "cc_num            -0.0002   0.8297\n",
       "amt                0.2058   0.0000\n",
       "zip               -0.0008   0.3662\n",
       "lat                0.0016   0.0679\n",
       "long              -0.0002   0.8616\n",
       "city_pop           0.0006   0.5150\n",
       "unix_time         -0.0129   0.0000\n",
       "merch_lat          0.0015   0.0947\n",
       "merch_long        -0.0002   0.8379"
      ]
     },
     "execution_count": 10,
     "metadata": {},
     "output_type": "execute_result"
    }
   ],
   "source": [
    "# Identifying the predictive features using the Pearson Correlation p-value\n",
    "\n",
    "pd.DataFrame(\n",
    "    [scipy.stats.pearsonr(Xnum[col], \n",
    "    ynum) for col in Xnum.columns], \n",
    "    columns=[\"Pearson Corr.\", \"p-value\"], \n",
    "    index=Xnum.columns,\n",
    ").round(4)"
   ]
  },
  {
   "cell_type": "markdown",
   "id": "b05e9469",
   "metadata": {},
   "source": [
    "Drop columns with p-value > 0.05 because it has low information to the target, and keep all the others."
   ]
  },
  {
   "cell_type": "code",
   "execution_count": 11,
   "id": "C3-E9NFh7PSQ",
   "metadata": {
    "id": "C3-E9NFh7PSQ"
   },
   "outputs": [],
   "source": [
    "df=df.drop(['cc_num','zip','lat','long','city_pop','merch_lat','merch_long','trans_date_trans_time', 'merchant', 'first', 'last',\n",
    "            'gender', 'street', 'city', 'state', 'job', 'dob', 'trans_num','unix_time'], axis=1)"
   ]
  },
  {
   "cell_type": "code",
   "execution_count": 31,
   "id": "Q0-NnnAf-k31",
   "metadata": {
    "colab": {
     "base_uri": "https://localhost:8080/",
     "height": 206
    },
    "id": "Q0-NnnAf-k31",
    "outputId": "f300508b-8734-4c71-eca6-84b0848656b2"
   },
   "outputs": [
    {
     "data": {
      "text/html": [
       "\n",
       "  <div id=\"df-e96868f3-9d17-44ad-bc08-9a3e271fa044\">\n",
       "    <div class=\"colab-df-container\">\n",
       "      <div>\n",
       "<style scoped>\n",
       "    .dataframe tbody tr th:only-of-type {\n",
       "        vertical-align: middle;\n",
       "    }\n",
       "\n",
       "    .dataframe tbody tr th {\n",
       "        vertical-align: top;\n",
       "    }\n",
       "\n",
       "    .dataframe thead th {\n",
       "        text-align: right;\n",
       "    }\n",
       "</style>\n",
       "<table border=\"1\" class=\"dataframe\">\n",
       "  <thead>\n",
       "    <tr style=\"text-align: right;\">\n",
       "      <th></th>\n",
       "      <th>category</th>\n",
       "      <th>amt</th>\n",
       "      <th>is_fraud</th>\n",
       "      <th>age</th>\n",
       "      <th>hour</th>\n",
       "      <th>day</th>\n",
       "      <th>month</th>\n",
       "    </tr>\n",
       "  </thead>\n",
       "  <tbody>\n",
       "    <tr>\n",
       "      <th>0</th>\n",
       "      <td>personal_care</td>\n",
       "      <td>2.86</td>\n",
       "      <td>0</td>\n",
       "      <td>55</td>\n",
       "      <td>12</td>\n",
       "      <td>6</td>\n",
       "      <td>6</td>\n",
       "    </tr>\n",
       "    <tr>\n",
       "      <th>1</th>\n",
       "      <td>personal_care</td>\n",
       "      <td>29.84</td>\n",
       "      <td>0</td>\n",
       "      <td>33</td>\n",
       "      <td>12</td>\n",
       "      <td>6</td>\n",
       "      <td>6</td>\n",
       "    </tr>\n",
       "    <tr>\n",
       "      <th>2</th>\n",
       "      <td>health_fitness</td>\n",
       "      <td>41.28</td>\n",
       "      <td>0</td>\n",
       "      <td>53</td>\n",
       "      <td>12</td>\n",
       "      <td>6</td>\n",
       "      <td>6</td>\n",
       "    </tr>\n",
       "    <tr>\n",
       "      <th>3</th>\n",
       "      <td>misc_pos</td>\n",
       "      <td>60.05</td>\n",
       "      <td>0</td>\n",
       "      <td>36</td>\n",
       "      <td>12</td>\n",
       "      <td>6</td>\n",
       "      <td>6</td>\n",
       "    </tr>\n",
       "    <tr>\n",
       "      <th>4</th>\n",
       "      <td>travel</td>\n",
       "      <td>3.19</td>\n",
       "      <td>0</td>\n",
       "      <td>68</td>\n",
       "      <td>12</td>\n",
       "      <td>6</td>\n",
       "      <td>6</td>\n",
       "    </tr>\n",
       "  </tbody>\n",
       "</table>\n",
       "</div>\n",
       "      <button class=\"colab-df-convert\" onclick=\"convertToInteractive('df-e96868f3-9d17-44ad-bc08-9a3e271fa044')\"\n",
       "              title=\"Convert this dataframe to an interactive table.\"\n",
       "              style=\"display:none;\">\n",
       "        \n",
       "  <svg xmlns=\"http://www.w3.org/2000/svg\" height=\"24px\"viewBox=\"0 0 24 24\"\n",
       "       width=\"24px\">\n",
       "    <path d=\"M0 0h24v24H0V0z\" fill=\"none\"/>\n",
       "    <path d=\"M18.56 5.44l.94 2.06.94-2.06 2.06-.94-2.06-.94-.94-2.06-.94 2.06-2.06.94zm-11 1L8.5 8.5l.94-2.06 2.06-.94-2.06-.94L8.5 2.5l-.94 2.06-2.06.94zm10 10l.94 2.06.94-2.06 2.06-.94-2.06-.94-.94-2.06-.94 2.06-2.06.94z\"/><path d=\"M17.41 7.96l-1.37-1.37c-.4-.4-.92-.59-1.43-.59-.52 0-1.04.2-1.43.59L10.3 9.45l-7.72 7.72c-.78.78-.78 2.05 0 2.83L4 21.41c.39.39.9.59 1.41.59.51 0 1.02-.2 1.41-.59l7.78-7.78 2.81-2.81c.8-.78.8-2.07 0-2.86zM5.41 20L4 18.59l7.72-7.72 1.47 1.35L5.41 20z\"/>\n",
       "  </svg>\n",
       "      </button>\n",
       "      \n",
       "  <style>\n",
       "    .colab-df-container {\n",
       "      display:flex;\n",
       "      flex-wrap:wrap;\n",
       "      gap: 12px;\n",
       "    }\n",
       "\n",
       "    .colab-df-convert {\n",
       "      background-color: #E8F0FE;\n",
       "      border: none;\n",
       "      border-radius: 50%;\n",
       "      cursor: pointer;\n",
       "      display: none;\n",
       "      fill: #1967D2;\n",
       "      height: 32px;\n",
       "      padding: 0 0 0 0;\n",
       "      width: 32px;\n",
       "    }\n",
       "\n",
       "    .colab-df-convert:hover {\n",
       "      background-color: #E2EBFA;\n",
       "      box-shadow: 0px 1px 2px rgba(60, 64, 67, 0.3), 0px 1px 3px 1px rgba(60, 64, 67, 0.15);\n",
       "      fill: #174EA6;\n",
       "    }\n",
       "\n",
       "    [theme=dark] .colab-df-convert {\n",
       "      background-color: #3B4455;\n",
       "      fill: #D2E3FC;\n",
       "    }\n",
       "\n",
       "    [theme=dark] .colab-df-convert:hover {\n",
       "      background-color: #434B5C;\n",
       "      box-shadow: 0px 1px 3px 1px rgba(0, 0, 0, 0.15);\n",
       "      filter: drop-shadow(0px 1px 2px rgba(0, 0, 0, 0.3));\n",
       "      fill: #FFFFFF;\n",
       "    }\n",
       "  </style>\n",
       "\n",
       "      <script>\n",
       "        const buttonEl =\n",
       "          document.querySelector('#df-e96868f3-9d17-44ad-bc08-9a3e271fa044 button.colab-df-convert');\n",
       "        buttonEl.style.display =\n",
       "          google.colab.kernel.accessAllowed ? 'block' : 'none';\n",
       "\n",
       "        async function convertToInteractive(key) {\n",
       "          const element = document.querySelector('#df-e96868f3-9d17-44ad-bc08-9a3e271fa044');\n",
       "          const dataTable =\n",
       "            await google.colab.kernel.invokeFunction('convertToInteractive',\n",
       "                                                     [key], {});\n",
       "          if (!dataTable) return;\n",
       "\n",
       "          const docLinkHtml = 'Like what you see? Visit the ' +\n",
       "            '<a target=\"_blank\" href=https://colab.research.google.com/notebooks/data_table.ipynb>data table notebook</a>'\n",
       "            + ' to learn more about interactive tables.';\n",
       "          element.innerHTML = '';\n",
       "          dataTable['output_type'] = 'display_data';\n",
       "          await google.colab.output.renderOutput(dataTable, element);\n",
       "          const docLink = document.createElement('div');\n",
       "          docLink.innerHTML = docLinkHtml;\n",
       "          element.appendChild(docLink);\n",
       "        }\n",
       "      </script>\n",
       "    </div>\n",
       "  </div>\n",
       "  "
      ],
      "text/plain": [
       "         category    amt  is_fraud  age  hour  day  month\n",
       "0   personal_care   2.86         0   55    12    6      6\n",
       "1   personal_care  29.84         0   33    12    6      6\n",
       "2  health_fitness  41.28         0   53    12    6      6\n",
       "3        misc_pos  60.05         0   36    12    6      6\n",
       "4          travel   3.19         0   68    12    6      6"
      ]
     },
     "execution_count": 31,
     "metadata": {},
     "output_type": "execute_result"
    }
   ],
   "source": [
    "df.head()"
   ]
  },
  {
   "cell_type": "code",
   "execution_count": 12,
   "id": "4Pm3QdRj9Kkg",
   "metadata": {
    "id": "4Pm3QdRj9Kkg"
   },
   "outputs": [],
   "source": [
    "#encode category column\n",
    "\n",
    "df = pd.get_dummies(df, 'category')"
   ]
  },
  {
   "cell_type": "code",
   "execution_count": 13,
   "id": "jfys44nW-q3P",
   "metadata": {
    "id": "jfys44nW-q3P"
   },
   "outputs": [],
   "source": [
    "X=df.drop('is_fraud', axis=1)\n",
    "y=df.is_fraud"
   ]
  },
  {
   "cell_type": "markdown",
   "id": "04a68d74",
   "metadata": {},
   "source": [
    "## SMOTE to balance data"
   ]
  },
  {
   "cell_type": "code",
   "execution_count": 14,
   "id": "FZVZxW8o_84M",
   "metadata": {
    "id": "FZVZxW8o_84M"
   },
   "outputs": [],
   "source": [
    "sm = SMOTE(random_state=42)\n",
    "X, y = sm.fit_resample(X, y)"
   ]
  },
  {
   "cell_type": "code",
   "execution_count": 15,
   "id": "R8Ff0GCiAGqc",
   "metadata": {
    "colab": {
     "base_uri": "https://localhost:8080/"
    },
    "id": "R8Ff0GCiAGqc",
    "outputId": "e5676337-3762-4eb8-e9a7-661443c6c843"
   },
   "outputs": [
    {
     "name": "stdout",
     "output_type": "stream",
     "text": [
      "0    1290265\n",
      "1    1290265\n",
      "Name: is_fraud, dtype: int64\n"
     ]
    }
   ],
   "source": [
    "print(y.value_counts())"
   ]
  },
  {
   "cell_type": "markdown",
   "id": "4630ae51",
   "metadata": {},
   "source": [
    "## Split Data"
   ]
  },
  {
   "cell_type": "code",
   "execution_count": 16,
   "id": "f3038e4b",
   "metadata": {
    "execution": {
     "iopub.execute_input": "2022-07-17T05:19:14.350420Z",
     "iopub.status.busy": "2022-07-17T05:19:14.350029Z",
     "iopub.status.idle": "2022-07-17T05:19:15.062567Z",
     "shell.execute_reply": "2022-07-17T05:19:15.061669Z"
    },
    "id": "f3038e4b",
    "papermill": {
     "duration": 0.728546,
     "end_time": "2022-07-17T05:19:15.065000",
     "exception": false,
     "start_time": "2022-07-17T05:19:14.336454",
     "status": "completed"
    },
    "tags": []
   },
   "outputs": [],
   "source": [
    "X_train, X_test, y_train, y_test = train_test_split(X,y, test_size = 0.2, random_state = 42)"
   ]
  },
  {
   "cell_type": "markdown",
   "id": "f08226f1",
   "metadata": {},
   "source": [
    "## Scale Data"
   ]
  },
  {
   "cell_type": "code",
   "execution_count": 17,
   "id": "oDL3gH_Z_NeS",
   "metadata": {
    "id": "oDL3gH_Z_NeS"
   },
   "outputs": [],
   "source": [
    "ss = StandardScaler()\n",
    "X_train = ss.fit_transform(X_train)\n",
    "X_test = ss.fit_transform(X_test)"
   ]
  },
  {
   "cell_type": "markdown",
   "id": "5246daf5",
   "metadata": {},
   "source": [
    "## Logistic Regression"
   ]
  },
  {
   "cell_type": "code",
   "execution_count": 38,
   "id": "0a37a23b",
   "metadata": {
    "execution": {
     "iopub.execute_input": "2022-07-17T05:19:20.259642Z",
     "iopub.status.busy": "2022-07-17T05:19:20.259277Z",
     "iopub.status.idle": "2022-07-17T05:19:45.351994Z",
     "shell.execute_reply": "2022-07-17T05:19:45.350861Z"
    },
    "id": "0a37a23b",
    "papermill": {
     "duration": 25.112981,
     "end_time": "2022-07-17T05:19:45.358336",
     "exception": false,
     "start_time": "2022-07-17T05:19:20.245355",
     "status": "completed"
    },
    "tags": []
   },
   "outputs": [],
   "source": [
    "log_reg=LogisticRegression()\n",
    "log_reg.fit(X_train,y_train)\n",
    "y_pred=log_reg.predict(X_test)"
   ]
  },
  {
   "cell_type": "code",
   "execution_count": 41,
   "id": "qxJrjsYlI19k",
   "metadata": {
    "colab": {
     "base_uri": "https://localhost:8080/"
    },
    "id": "qxJrjsYlI19k",
    "outputId": "4d0acfe3-216e-440d-9f81-0ef90cddf23b"
   },
   "outputs": [
    {
     "name": "stdout",
     "output_type": "stream",
     "text": [
      "Classification report:\n",
      "               precision    recall  f1-score   support\n",
      "\n",
      "           0       0.86      0.94      0.90    257922\n",
      "           1       0.93      0.85      0.89    258184\n",
      "\n",
      "    accuracy                           0.89    516106\n",
      "   macro avg       0.90      0.89      0.89    516106\n",
      "weighted avg       0.90      0.89      0.89    516106\n",
      "\n",
      "Confusion matrix:\n",
      " [[241565  16357]\n",
      " [ 39383 218801]]\n"
     ]
    }
   ],
   "source": [
    "print('Classification report:\\n', classification_report(y_test, y_pred))\n",
    "conf_mat = confusion_matrix(y_test, y_pred)\n",
    "print('Confusion matrix:\\n', conf_mat)"
   ]
  },
  {
   "cell_type": "code",
   "execution_count": 42,
   "id": "P4qfjO7QIhLE",
   "metadata": {
    "colab": {
     "base_uri": "https://localhost:8080/"
    },
    "id": "P4qfjO7QIhLE",
    "outputId": "aa7b2929-c675-411b-9245-f1ed93af601b"
   },
   "outputs": [
    {
     "data": {
      "text/plain": [
       "0.8920215512575794"
      ]
     },
     "execution_count": 42,
     "metadata": {},
     "output_type": "execute_result"
    }
   ],
   "source": [
    "# ROC_AUC score\n",
    "\n",
    "roc_auc_score(y_test, y_pred)  "
   ]
  },
  {
   "cell_type": "code",
   "execution_count": 43,
   "id": "lmGETTndIhcQ",
   "metadata": {
    "colab": {
     "base_uri": "https://localhost:8080/"
    },
    "id": "lmGETTndIhcQ",
    "outputId": "20593837-9126-445a-cda8-8787465d9113"
   },
   "outputs": [
    {
     "data": {
      "text/plain": [
       "0.8919989304522714"
      ]
     },
     "execution_count": 43,
     "metadata": {},
     "output_type": "execute_result"
    }
   ],
   "source": [
    "#accuracy\n",
    "\n",
    "accuracy_score(y_test, y_pred)  "
   ]
  },
  {
   "cell_type": "markdown",
   "id": "3e890408",
   "metadata": {},
   "source": [
    "## Random Forest "
   ]
  },
  {
   "cell_type": "code",
   "execution_count": 22,
   "id": "88c4c7a8",
   "metadata": {
    "execution": {
     "iopub.execute_input": "2022-07-17T05:19:45.413810Z",
     "iopub.status.busy": "2022-07-17T05:19:45.412793Z",
     "iopub.status.idle": "2022-07-17T05:33:23.758391Z",
     "shell.execute_reply": "2022-07-17T05:33:23.757118Z"
    },
    "id": "88c4c7a8",
    "papermill": {
     "duration": 818.378098,
     "end_time": "2022-07-17T05:33:23.776579",
     "exception": false,
     "start_time": "2022-07-17T05:19:45.398481",
     "status": "completed"
    },
    "tags": []
   },
   "outputs": [],
   "source": [
    "rf = RandomForestClassifier(n_estimators=200, random_state=42)\n",
    "rf.fit(X_train,y_train)\n",
    "y_pred=rf.predict(X_test) "
   ]
  },
  {
   "cell_type": "code",
   "execution_count": 23,
   "id": "HObYzyqHJWVw",
   "metadata": {
    "colab": {
     "base_uri": "https://localhost:8080/"
    },
    "id": "HObYzyqHJWVw",
    "outputId": "cd2085c8-81d2-4dad-b9bd-99028917dd23"
   },
   "outputs": [
    {
     "name": "stdout",
     "output_type": "stream",
     "text": [
      "Classification report:\n",
      "               precision    recall  f1-score   support\n",
      "\n",
      "           0       0.93      0.93      0.93    257922\n",
      "           1       0.93      0.93      0.93    258184\n",
      "\n",
      "    accuracy                           0.93    516106\n",
      "   macro avg       0.93      0.93      0.93    516106\n",
      "weighted avg       0.93      0.93      0.93    516106\n",
      "\n",
      "Confusion matrix:\n",
      " [[240528  17394]\n",
      " [ 17921 240263]]\n"
     ]
    }
   ],
   "source": [
    "print('Classification report:\\n', classification_report(y_test, y_pred))\n",
    "conf_mat = confusion_matrix(y_test, y_pred)\n",
    "print('Confusion matrix:\\n', conf_mat)"
   ]
  },
  {
   "cell_type": "code",
   "execution_count": 24,
   "id": "tDOZ6xa_E8ji",
   "metadata": {
    "colab": {
     "base_uri": "https://localhost:8080/"
    },
    "id": "tDOZ6xa_E8ji",
    "outputId": "30b26a2e-df5d-45b8-93f7-bac24b4bfbd9"
   },
   "outputs": [
    {
     "data": {
      "text/plain": [
       "0.9315746347252072"
      ]
     },
     "execution_count": 24,
     "metadata": {},
     "output_type": "execute_result"
    }
   ],
   "source": [
    "#ROC_AUC score\n",
    "\n",
    "roc_auc_score(y_test, y_pred)  "
   ]
  },
  {
   "cell_type": "code",
   "execution_count": 25,
   "id": "LUZZk6i2HBIQ",
   "metadata": {
    "colab": {
     "base_uri": "https://localhost:8080/"
    },
    "id": "LUZZk6i2HBIQ",
    "outputId": "ea3b1607-f263-4453-b7a9-a87759470c58"
   },
   "outputs": [
    {
     "data": {
      "text/plain": [
       "0.9315741339957295"
      ]
     },
     "execution_count": 25,
     "metadata": {},
     "output_type": "execute_result"
    }
   ],
   "source": [
    "#accuracy\n",
    "\n",
    "accuracy_score(y_test, y_pred)  "
   ]
  },
  {
   "cell_type": "markdown",
   "id": "93c35966",
   "metadata": {},
   "source": [
    "## Observations"
   ]
  },
  {
   "cell_type": "markdown",
   "id": "8ba28e77",
   "metadata": {
    "id": "8ba28e77",
    "papermill": {
     "duration": 0.012647,
     "end_time": "2022-07-17T05:33:23.802085",
     "exception": false,
     "start_time": "2022-07-17T05:33:23.789438",
     "status": "completed"
    },
    "tags": []
   },
   "source": [
    "The models perform better with a balanced dataset."
   ]
  },
  {
   "cell_type": "markdown",
   "id": "49082c78",
   "metadata": {},
   "source": [
    "## Summary"
   ]
  },
  {
   "cell_type": "markdown",
   "id": "c4aa4014",
   "metadata": {},
   "source": [
    "Random Forest performed better with an accuracy and ROC_AUC score of 93%."
   ]
  }
 ],
 "metadata": {
  "colab": {
   "provenance": []
  },
  "kernelspec": {
   "display_name": "Python 3 (ipykernel)",
   "language": "python",
   "name": "python3"
  },
  "language_info": {
   "codemirror_mode": {
    "name": "ipython",
    "version": 3
   },
   "file_extension": ".py",
   "mimetype": "text/x-python",
   "name": "python",
   "nbconvert_exporter": "python",
   "pygments_lexer": "ipython3",
   "version": "3.9.13"
  },
  "papermill": {
   "default_parameters": {},
   "duration": 890.627284,
   "end_time": "2022-07-17T05:33:25.241237",
   "environment_variables": {},
   "exception": null,
   "input_path": "__notebook__.ipynb",
   "output_path": "__notebook__.ipynb",
   "parameters": {},
   "start_time": "2022-07-17T05:18:34.613953",
   "version": "2.3.4"
  }
 },
 "nbformat": 4,
 "nbformat_minor": 5
}
